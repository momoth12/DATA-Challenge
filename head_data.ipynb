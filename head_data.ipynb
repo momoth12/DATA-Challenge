{
 "cells": [
  {
   "cell_type": "code",
   "execution_count": 44,
   "metadata": {},
   "outputs": [
    {
     "name": "stderr",
     "output_type": "stream",
     "text": [
      "C:\\Users\\mouha\\AppData\\Local\\Temp\\ipykernel_34280\\127616925.py:6: UserWarning: The argument 'infer_datetime_format' is deprecated and will be removed in a future version. A strict version of it is now the default, see https://pandas.pydata.org/pdeps/0004-consistent-to-datetime-parsing.html. You can safely remove this argument.\n",
      "  clients[\"dPremierEnvoi\"] = pd.to_datetime(clients[\"dPremierEnvoi\"], errors='coerce', infer_datetime_format=True).dt.date\n"
     ]
    },
    {
     "data": {
      "text/plain": [
       "0        2015-06-05\n",
       "1        2011-11-29\n",
       "2               NaT\n",
       "3        2016-05-20\n",
       "4               NaT\n",
       "            ...    \n",
       "499995          NaT\n",
       "499996          NaT\n",
       "499997          NaT\n",
       "499998   2018-12-29\n",
       "499999          NaT\n",
       "Name: dPremierEnvoi, Length: 500000, dtype: datetime64[ns]"
      ]
     },
     "execution_count": 44,
     "metadata": {},
     "output_type": "execute_result"
    }
   ],
   "source": [
    "import pandas as pd\n",
    "\n",
    "clients = pd.read_csv('../data/Clients.csv', delimiter=';', encoding='latin1')\n",
    "\n",
    "# Use infer_datetime_format=True to let pandas infer the datetime format\n",
    "clients[\"dPremierEnvoi\"] = pd.to_datetime(clients[\"dPremierEnvoi\"], errors='coerce', infer_datetime_format=True).dt.date\n",
    "\n",
    "# Extracting the date component\n",
    "clients[\"dPremierEnvoi\"]=pd.to_datetime(clients[\"dPremierEnvoi\"])\n",
    "\n",
    "clients[\"dPremierEnvoi\"]\n"
   ]
  },
  {
   "cell_type": "code",
   "execution_count": null,
   "metadata": {},
   "outputs": [],
   "source": [
    "clients['dPremierEnvoi']"
   ]
  },
  {
   "cell_type": "code",
   "execution_count": null,
   "metadata": {},
   "outputs": [],
   "source": [
    "import pandas as pd\n",
    "import numpy as np\n",
    "import matplotlib.pyplot as plt\n",
    "import seaborn as sns\n",
    "\n",
    "date_columns = ['dPremierEnvoi', 'dPremiereCommande']\n",
    "\n",
    "clients = pd.read_csv('../data/Clients.csv', delimiter=';', encoding='latin1')\n",
    "commandes = pd.read_csv('../data/Commandes.csv', delimiter=';', encoding='latin1')\n",
    "envois_chunks = pd.read_csv('../data/Envois.csv', delimiter=';', encoding='latin1', chunksize=500000)\n",
    "envois = envois_chunks.get_chunk()\n",
    "produits = pd.read_csv('../data/Produits.csv', delimiter=';', encoding='latin1')"
   ]
  },
  {
   "cell_type": "code",
   "execution_count": null,
   "metadata": {},
   "outputs": [],
   "source": [
    "clients['dPremierEnvoi']"
   ]
  },
  {
   "cell_type": "code",
   "execution_count": null,
   "metadata": {},
   "outputs": [],
   "source": [
    "pd.set_option(\"display.max_columns\",50)\n",
    "clients.head()"
   ]
  },
  {
   "cell_type": "code",
   "execution_count": null,
   "metadata": {},
   "outputs": [],
   "source": [
    "clients[\"Segmentation\"].value_counts()"
   ]
  },
  {
   "cell_type": "code",
   "execution_count": null,
   "metadata": {},
   "outputs": [],
   "source": [
    "commandes.head()"
   ]
  },
  {
   "cell_type": "code",
   "execution_count": null,
   "metadata": {},
   "outputs": [],
   "source": [
    "produits.head()"
   ]
  },
  {
   "cell_type": "code",
   "execution_count": null,
   "metadata": {},
   "outputs": [],
   "source": [
    "produits"
   ]
  },
  {
   "cell_type": "code",
   "execution_count": null,
   "metadata": {},
   "outputs": [],
   "source": [
    "envois.head()"
   ]
  },
  {
   "cell_type": "markdown",
   "metadata": {},
   "source": [
    "print()"
   ]
  },
  {
   "cell_type": "code",
   "execution_count": null,
   "metadata": {},
   "outputs": [],
   "source": [
    "commandes.columns"
   ]
  },
  {
   "cell_type": "markdown",
   "metadata": {},
   "source": []
  },
  {
   "cell_type": "code",
   "execution_count": null,
   "metadata": {},
   "outputs": [],
   "source": []
  }
 ],
 "metadata": {
  "kernelspec": {
   "display_name": "base",
   "language": "python",
   "name": "python3"
  },
  "language_info": {
   "codemirror_mode": {
    "name": "ipython",
    "version": 3
   },
   "file_extension": ".py",
   "mimetype": "text/x-python",
   "name": "python",
   "nbconvert_exporter": "python",
   "pygments_lexer": "ipython3",
   "version": "3.10.7"
  }
 },
 "nbformat": 4,
 "nbformat_minor": 2
}
